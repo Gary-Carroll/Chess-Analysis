{
 "cells": [
  {
   "cell_type": "code",
   "execution_count": 1,
   "id": "73079f7c",
   "metadata": {},
   "outputs": [],
   "source": [
    "import lichess.api\n",
    "from lichess.format import PYCHESS\n",
    "import matplotlib.pyplot as plt\n",
    "import seaborn as sns\n",
    "import numpy as np"
   ]
  },
  {
   "cell_type": "code",
   "execution_count": 2,
   "id": "2ad38c42",
   "metadata": {},
   "outputs": [
    {
     "name": "stdout",
     "output_type": "stream",
     "text": [
      "1777\n"
     ]
    }
   ],
   "source": [
    "user = lichess.api.user('GarethC13')\n",
    "print(user['perfs']['bullet']['rating'])"
   ]
  },
  {
   "cell_type": "code",
   "execution_count": 3,
   "id": "768b1de9",
   "metadata": {},
   "outputs": [],
   "source": [
    "games = lichess.api.user_games('GarethC13', max=3000, perfType='bullet')\n",
    "gameslist = list(games)"
   ]
  },
  {
   "cell_type": "code",
   "execution_count": 4,
   "id": "108fb140",
   "metadata": {},
   "outputs": [
    {
     "name": "stdout",
     "output_type": "stream",
     "text": [
      "3000 total bullet games.\n",
      "1504 as white.\n",
      "1496 as black.\n"
     ]
    }
   ],
   "source": [
    "whitegames = []\n",
    "blackgames = []\n",
    "for game in gameslist:\n",
    "    players = game['players']\n",
    "    colour = players.get('white')\n",
    "    user = colour.get('user')\n",
    "    i_d = user.get('id')\n",
    "    if i_d == 'garethc13':\n",
    "        whitegames.append(game)\n",
    "    else:\n",
    "        blackgames.append(game)\n",
    "print(len(gameslist),'total bullet games.')\n",
    "print(len(whitegames),'as white.')\n",
    "print(len(blackgames),'as black.')"
   ]
  },
  {
   "cell_type": "code",
   "execution_count": 5,
   "id": "bf0fe3b3",
   "metadata": {},
   "outputs": [
    {
     "name": "stdout",
     "output_type": "stream",
     "text": [
      "[1, 2, 52, 5, 8, 49, 20, 370, 50, 806, 3, 17, 42, 4, 2, 1, 52, 0, 0, 0]\n"
     ]
    },
    {
     "data": {
      "image/png": "[encoded data removed]",
      "text/plain": [
       "<Figure size 432x288 with 2 Axes>"
      ]
     },
     "metadata": {
      "needs_background": "light"
     },
     "output_type": "display_data"
    },
    {
     "data": {
      "text/plain": [
       "1484"
      ]
     },
     "execution_count": 5,
     "metadata": {},
     "output_type": "execute_result"
    }
   ],
   "source": [
    "move = ['a3','a4','b3','b4','c3','c4','d3','d4','e3','e4','f3','f4','g3','g4','h3','h4','Nf3','Nb3','Na3','Nh3']\n",
    "values = [0,0,0,0,0,0,0,0,0,0,0,0,0,0,0,0,0,0,0,0]\n",
    "squares = [[2,7],[3,7],[2,6],[3,6],[2,5],[3,5],[2,4],[3,4],[2,3],[3,3],[2,2],[3,2],[2,1],[3,1],[2,0],[3,0],\n",
    "           [2,2],[2,6],[2,7],[2,0]]\n",
    "\n",
    "uniform_data = np.zeros([8,8])\n",
    "for i in blackgames:\n",
    "    j = i['moves'].split()\n",
    "    for m,v,s in zip(move,range(20),squares):\n",
    "        if j[0] == m:\n",
    "            values[v] += 1\n",
    "            \n",
    "print(values)\n",
    "\n",
    "for v,s in zip(values,squares):\n",
    "    s0 = s[0]\n",
    "    s1 = s[1]\n",
    "    uniform_data[s0,s1] = v\n",
    "\n",
    "cmap = sns.cm.rocket_r\n",
    "for v,s in zip(values,squares):\n",
    "    s0 = s[0]\n",
    "    s1 = s[1]\n",
    "    uniform_data[s0,s1] = v\n",
    "\n",
    "data_avg = uniform_data/2000    \n",
    "\n",
    "x_axis_labels = ['h','g','f','e','d','c','b','a']\n",
    "y_axis_labels = [1,2,3,4,5,6,7,8]\n",
    "\n",
    "ax = sns.heatmap(data_avg,square=True,xticklabels=x_axis_labels, yticklabels=y_axis_labels,\n",
    "                 cmap=cmap,linewidth=0.5)\n",
    "plt.title('Opening Moves of my Opponents as White')\n",
    "plt.savefig('openings.png')\n",
    "plt.show()\n",
    "sum(values)"
   ]
  },
  {
   "cell_type": "code",
   "execution_count": 6,
   "id": "4f13ca63",
   "metadata": {},
   "outputs": [
    {
     "data": {
      "image/png": "[encoded data removed]",
      "text/plain": [
       "<Figure size 432x288 with 2 Axes>"
      ]
     },
     "metadata": {
      "needs_background": "light"
     },
     "output_type": "display_data"
    },
    {
     "name": "stdout",
     "output_type": "stream",
     "text": [
      "[0, 0, 0, 0, 0, 0, 1, 0, 45, 1442, 0, 1, 15, 0, 0, 0, 0, 0, 0, 0]\n"
     ]
    }
   ],
   "source": [
    "move = ['a3','a4','b3','b4','c3','c4','d3','d4','e3','e4','f3','f4','g3','g4','h3','h4','Nf3','Nb3','Na3','Nh3']\n",
    "values = [0,0,0,0,0,0,0,0,0,0,0,0,0,0,0,0,0,0,0,0]\n",
    "squares = [[2,7],[3,7],[2,6],[3,6],[2,5],[3,5],[2,4],[3,4],[2,3],[3,3],[2,2],[3,2],[2,1],[3,1],[2,0],[3,0],\n",
    "           [2,2],[2,6],[2,7],[2,0]]\n",
    "\n",
    "uniform_data = np.zeros([8,8])\n",
    "for i in whitegames:\n",
    "    j = i['moves'].split()\n",
    "    for m,v,s in zip(move,range(20),squares):\n",
    "        if j[0] == m:\n",
    "            values[v] += 1\n",
    "for v,s in zip(values,squares):\n",
    "    s0 = s[0]\n",
    "    s1 = s[1]\n",
    "    uniform_data[s0,s1] = v\n",
    "cmap = sns.cm.rocket_r\n",
    "\n",
    "data_avg = uniform_data/2000    \n",
    "    \n",
    "x_axis_labels = ['h','g','f','e','d','c','b','a']\n",
    "y_axis_labels = [1,2,3,4,5,6,7,8]\n",
    "\n",
    "ax = sns.heatmap(data_avg,square=True,xticklabels=x_axis_labels, yticklabels=y_axis_labels,\n",
    "                 cmap=cmap,linewidth=0.5)\n",
    "plt.title('Opening Moves by Me as White')\n",
    "ax.invert_xaxis()\n",
    "ax.invert_yaxis()\n",
    "plt.show()\n",
    "print(values)"
   ]
  },
  {
   "cell_type": "code",
   "execution_count": 40,
   "id": "1f821874",
   "metadata": {},
   "outputs": [],
   "source": [
    "letters = ['a','b','c','d','e','f','g','h']\n",
    "move = []\n",
    "values = [0]*64\n",
    "squares = []\n",
    "v = 0\n",
    "for i in letters:\n",
    "    for j in range(1,9,1):\n",
    "        k = i+str(j)\n",
    "        move.append(k)\n",
    "\n",
    "x = 7\n",
    "while x >= 0:\n",
    "    for f in range(0,8):\n",
    "        for i in range(0,8):\n",
    "            j = [i,x]\n",
    "            squares.append(j)\n",
    "        x-=1\n",
    "\n",
    "        \n",
    "for x in blackgames:\n",
    "    if x['status'] == 'mate' and x['winner'] == 'white':\n",
    "        y = x['moves']\n",
    "        y = list(y.split(' '))\n",
    "        y = y[1::2]\n",
    "        king = 0\n",
    "        for i in y:\n",
    "            if i[0] == 'K':\n",
    "                king = i[-2:]\n",
    "            elif i == 'O-O':\n",
    "                king = 'g8'\n",
    "            elif i == 'O-O-O':\n",
    "                king = 'c8'\n",
    "        for m,v in zip(move,range(64)):\n",
    "            if m == king:\n",
    "                values[v] += 1\n",
    "        if king == 0:\n",
    "            values[39] += 1\n",
    "            \n",
    "data = np.zeros([8,8])\n",
    "for v,s in zip(values,squares):\n",
    "    s0 = s[0]\n",
    "    s1 = s[1]\n",
    "    data[s0,s1] = v"
   ]
  },
  {
   "cell_type": "code",
   "execution_count": 41,
   "id": "4c7c546c",
   "metadata": {},
   "outputs": [
    {
     "data": {
      "image/png": "[encoded data removed]",
      "text/plain": [
       "<Figure size 432x288 with 2 Axes>"
      ]
     },
     "metadata": {
      "needs_background": "light"
     },
     "output_type": "display_data"
    }
   ],
   "source": [
    "x_axis_labels = ['h','g','f','e','d','c','b','a']\n",
    "y_axis_labels = [1,2,3,4,5,6,7,8]\n",
    "data = data/(sum(sum(data)))\n",
    "ax = sns.heatmap(data,square=True,xticklabels=x_axis_labels, yticklabels=y_axis_labels,\n",
    "                 cmap=cmap,linewidth=0.5)\n",
    "plt.title('Square of king at checkmate, black pieces.')\n",
    "plt.savefig('blackmate.png')\n",
    "plt.show()"
   ]
  },
  {
   "cell_type": "code",
   "execution_count": 44,
   "id": "aa34f85e",
   "metadata": {},
   "outputs": [],
   "source": [
    "letters = ['a','b','c','d','e','f','g','h']\n",
    "move = []\n",
    "values = [0]*64\n",
    "squares = []\n",
    "v = 0\n",
    "for i in letters:\n",
    "    for j in range(1,9,1):\n",
    "        k = i+str(j)\n",
    "        move.append(k)\n",
    "\n",
    "x = 7\n",
    "while x >= 0:\n",
    "    for f in range(0,8):\n",
    "        for i in range(0,8):\n",
    "            j = [i,x]\n",
    "            squares.append(j)\n",
    "        x-=1\n",
    "\n",
    "        \n",
    "for x in whitegames:\n",
    "    if x['status'] == 'mate' and x['winner'] == 'black':\n",
    "        y = x['moves']\n",
    "        y = list(y.split(' '))\n",
    "        y = y[0::2]\n",
    "        king = 0\n",
    "        for i in y:\n",
    "            if i[0] == 'K':\n",
    "                king = i[-2:]\n",
    "            elif i == 'O-O':\n",
    "                king = 'g1'\n",
    "            elif i == 'O-O-O':\n",
    "                king = 'c1'\n",
    "        for m,v in zip(move,range(64)):\n",
    "            if m == king:\n",
    "                values[v] += 1\n",
    "        if king == 0:\n",
    "            values[32] += 1\n",
    "            \n",
    "data = np.zeros([8,8])\n",
    "for v,s in zip(values,squares):\n",
    "    s0 = s[0]\n",
    "    s1 = s[1]\n",
    "    data[s0,s1] = v"
   ]
  },
  {
   "cell_type": "code",
   "execution_count": 46,
   "id": "490107a2",
   "metadata": {},
   "outputs": [
    {
     "data": {
      "image/png": "[encoded data removed]",
      "text/plain": [
       "<Figure size 432x288 with 2 Axes>"
      ]
     },
     "metadata": {
      "needs_background": "light"
     },
     "output_type": "display_data"
    }
   ],
   "source": [
    "x_axis_labels = ['h','g','f','e','d','c','b','a']\n",
    "y_axis_labels = [1,2,3,4,5,6,7,8]\n",
    "data = data/(sum(sum(data)))\n",
    "ax = sns.heatmap(data,square=True,xticklabels=x_axis_labels, yticklabels=y_axis_labels,\n",
    "                 cmap=cmap,linewidth=0.5)\n",
    "plt.title('Square of king at checkmate, white pieces.')\n",
    "ax.invert_xaxis()\n",
    "ax.invert_yaxis()\n",
    "plt.savefig('whitemate.png')\n",
    "plt.show()"
   ]
  },
  {
   "cell_type": "code",
   "execution_count": null,
   "id": "c2f661a2",
   "metadata": {},
   "outputs": [],
   "source": []
  }
 ],
 "metadata": {
  "kernelspec": {
   "display_name": "Python 3 (ipykernel)",
   "language": "python",
   "name": "python3"
  },
  "language_info": {
   "codemirror_mode": {
    "name": "ipython",
    "version": 3
   },
   "file_extension": ".py",
   "mimetype": "text/x-python",
   "name": "python",
   "nbconvert_exporter": "python",
   "pygments_lexer": "ipython3",
   "version": "3.9.16"
  }
 },
 "nbformat": 4,
 "nbformat_minor": 5
}
